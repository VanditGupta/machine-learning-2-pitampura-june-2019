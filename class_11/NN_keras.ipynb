{
 "cells": [
  {
   "cell_type": "code",
   "execution_count": 30,
   "metadata": {},
   "outputs": [],
   "source": [
    "import numpy as np\n",
    "import pandas as pd\n",
    "import matplotlib.pyplot as plt\n",
    "from keras.models import Model,Sequential\n",
    "from keras.layers import Dense, Input\n",
    "from keras.optimizers import Adam\n",
    "from keras.utils import np_utils"
   ]
  },
  {
   "cell_type": "code",
   "execution_count": 8,
   "metadata": {},
   "outputs": [
    {
     "name": "stdout",
     "output_type": "stream",
     "text": [
      "(10000, 784) (10000, 10)\n"
     ]
    }
   ],
   "source": [
    "data = pd.read_csv(\"../class_10/fashion-mnist_test.csv\")\n",
    "x = data.values\n",
    "X = x[:,1:]\n",
    "y = x[:,0]\n",
    "X = X/255.0\n",
    "\n",
    "y = np_utils.to_categorical(y)\n",
    "print (X.shape, y.shape)"
   ]
  },
  {
   "cell_type": "code",
   "execution_count": 9,
   "metadata": {},
   "outputs": [
    {
     "name": "stdout",
     "output_type": "stream",
     "text": [
      "(8000, 784) (8000, 10)\n",
      "(2000, 784) (2000, 10)\n"
     ]
    }
   ],
   "source": [
    "X_train = X[:8000,:]\n",
    "y_train = y[:8000,:]\n",
    "\n",
    "X_val = X[8000:,:]\n",
    "y_val = y[8000:,:]\n",
    "\n",
    "print(X_train.shape, y_train.shape)\n",
    "print(X_val.shape, y_val.shape)"
   ]
  },
  {
   "cell_type": "markdown",
   "metadata": {},
   "source": [
    "## Sequential Model"
   ]
  },
  {
   "cell_type": "code",
   "execution_count": 34,
   "metadata": {},
   "outputs": [
    {
     "name": "stdout",
     "output_type": "stream",
     "text": [
      "_________________________________________________________________\n",
      "Layer (type)                 Output Shape              Param #   \n",
      "=================================================================\n",
      "dense_19 (Dense)             (None, 256)               200960    \n",
      "_________________________________________________________________\n",
      "dense_20 (Dense)             (None, 64)                16448     \n",
      "_________________________________________________________________\n",
      "dense_21 (Dense)             (None, 10)                650       \n",
      "=================================================================\n",
      "Total params: 218,058\n",
      "Trainable params: 218,058\n",
      "Non-trainable params: 0\n",
      "_________________________________________________________________\n"
     ]
    }
   ],
   "source": [
    "model = Sequential()\n",
    "\n",
    "model.add(Dense(256, activation='relu', input_shape=(784,)))\n",
    "model.add(Dense(64, activation='relu'))\n",
    "model.add(Dense(10, activation='softmax'))\n",
    "\n",
    "model.summary()"
   ]
  },
  {
   "cell_type": "code",
   "execution_count": 35,
   "metadata": {},
   "outputs": [],
   "source": [
    "adam = Adam(decay=0.0001)"
   ]
  },
  {
   "cell_type": "code",
   "execution_count": 36,
   "metadata": {},
   "outputs": [],
   "source": [
    "model.compile(loss='categorical_crossentropy', optimizer=adam, metrics=['accuracy'])"
   ]
  },
  {
   "cell_type": "code",
   "execution_count": 37,
   "metadata": {
    "scrolled": true
   },
   "outputs": [
    {
     "name": "stdout",
     "output_type": "stream",
     "text": [
      "Train on 8000 samples, validate on 2000 samples\n",
      "Epoch 1/10\n",
      "8000/8000 [==============================] - 1s 143us/step - loss: 0.9740 - acc: 0.6776 - val_loss: 0.6093 - val_acc: 0.7900\n",
      "Epoch 2/10\n",
      "8000/8000 [==============================] - 1s 65us/step - loss: 0.5605 - acc: 0.8095 - val_loss: 0.4854 - val_acc: 0.8260\n",
      "Epoch 3/10\n",
      "8000/8000 [==============================] - 0s 59us/step - loss: 0.4918 - acc: 0.8287 - val_loss: 0.5193 - val_acc: 0.8100\n",
      "Epoch 4/10\n",
      "8000/8000 [==============================] - 0s 62us/step - loss: 0.4627 - acc: 0.8359 - val_loss: 0.4918 - val_acc: 0.8325\n",
      "Epoch 5/10\n",
      "8000/8000 [==============================] - 0s 61us/step - loss: 0.4353 - acc: 0.8470 - val_loss: 0.4170 - val_acc: 0.8505\n",
      "Epoch 6/10\n",
      "8000/8000 [==============================] - 1s 63us/step - loss: 0.3917 - acc: 0.8622 - val_loss: 0.4047 - val_acc: 0.8540\n",
      "Epoch 7/10\n",
      "8000/8000 [==============================] - 1s 64us/step - loss: 0.3788 - acc: 0.8638 - val_loss: 0.4038 - val_acc: 0.8570\n",
      "Epoch 8/10\n",
      "8000/8000 [==============================] - 0s 58us/step - loss: 0.3439 - acc: 0.8772 - val_loss: 0.3821 - val_acc: 0.8685\n",
      "Epoch 9/10\n",
      "8000/8000 [==============================] - 0s 61us/step - loss: 0.3273 - acc: 0.8816 - val_loss: 0.3880 - val_acc: 0.8670\n",
      "Epoch 10/10\n",
      "8000/8000 [==============================] - 0s 61us/step - loss: 0.3181 - acc: 0.8847 - val_loss: 0.3774 - val_acc: 0.8720\n"
     ]
    }
   ],
   "source": [
    "history = model.fit(X_train, y_train, epochs=10, \n",
    "                    batch_size=200, shuffle=True, \n",
    "                    validation_data=(X_val,y_val))"
   ]
  },
  {
   "cell_type": "code",
   "execution_count": 25,
   "metadata": {},
   "outputs": [
    {
     "data": {
      "image/png": "[encoded data removed]",
      "text/plain": [
       "<Figure size 432x288 with 1 Axes>"
      ]
     },
     "metadata": {
      "needs_background": "light"
     },
     "output_type": "display_data"
    }
   ],
   "source": [
    "# SGD\n",
    "\n",
    "plt.plot(history.history['loss'], color='red')\n",
    "plt.plot(history.history['val_loss'], color='blue')\n",
    "plt.plot(history.history['acc'], color='black')\n",
    "plt.plot(history.history['val_acc'], color='pink')\n",
    "plt.show()"
   ]
  },
  {
   "cell_type": "code",
   "execution_count": 29,
   "metadata": {},
   "outputs": [
    {
     "data": {
      "image/png": "[encoded data removed]",
      "text/plain": [
       "<Figure size 432x288 with 1 Axes>"
      ]
     },
     "metadata": {
      "needs_background": "light"
     },
     "output_type": "display_data"
    }
   ],
   "source": [
    "# Adam without decay\n",
    "\n",
    "plt.plot(history.history['loss'], color='red')\n",
    "plt.plot(history.history['val_loss'], color='blue')\n",
    "plt.plot(history.history['acc'], color='black')\n",
    "plt.plot(history.history['val_acc'], color='pink')\n",
    "plt.show()"
   ]
  },
  {
   "cell_type": "code",
   "execution_count": 38,
   "metadata": {},
   "outputs": [
    {
     "data": {
      "image/png": "[encoded data removed]",
      "text/plain": [
       "<Figure size 432x288 with 1 Axes>"
      ]
     },
     "metadata": {
      "needs_background": "light"
     },
     "output_type": "display_data"
    }
   ],
   "source": [
    "# Adam with decay\n",
    "\n",
    "plt.plot(history.history['loss'], color='red')\n",
    "plt.plot(history.history['val_loss'], color='blue')\n",
    "plt.plot(history.history['acc'], color='black')\n",
    "plt.plot(history.history['val_acc'], color='pink')\n",
    "plt.show()"
   ]
  },
  {
   "cell_type": "code",
   "execution_count": null,
   "metadata": {},
   "outputs": [],
   "source": []
  },
  {
   "cell_type": "markdown",
   "metadata": {},
   "source": [
    "## Functional Model"
   ]
  },
  {
   "cell_type": "code",
   "execution_count": 41,
   "metadata": {},
   "outputs": [
    {
     "name": "stdout",
     "output_type": "stream",
     "text": [
      "_________________________________________________________________\n",
      "Layer (type)                 Output Shape              Param #   \n",
      "=================================================================\n",
      "input_2 (InputLayer)         (None, 784)               0         \n",
      "_________________________________________________________________\n",
      "dense_25 (Dense)             (None, 256)               200960    \n",
      "_________________________________________________________________\n",
      "dense_26 (Dense)             (None, 64)                16448     \n",
      "_________________________________________________________________\n",
      "dense_27 (Dense)             (None, 10)                650       \n",
      "=================================================================\n",
      "Total params: 218,058\n",
      "Trainable params: 218,058\n",
      "Non-trainable params: 0\n",
      "_________________________________________________________________\n"
     ]
    }
   ],
   "source": [
    "inp = Input(shape=(784,))\n",
    "d1 = Dense(256, activation='relu')(inp)\n",
    "d2 = Dense(64, activation='relu')(d1)\n",
    "d3 = Dense(10, activation='softmax')(d2)\n",
    "\n",
    "model = Model(inputs=[inp], outputs=[d3])\n",
    "\n",
    "model.summary()"
   ]
  },
  {
   "cell_type": "code",
   "execution_count": 42,
   "metadata": {},
   "outputs": [],
   "source": [
    "adam = Adam(decay=0.0001)"
   ]
  },
  {
   "cell_type": "code",
   "execution_count": 43,
   "metadata": {},
   "outputs": [],
   "source": [
    "model.compile(loss='categorical_crossentropy', optimizer=adam, metrics=['accuracy'])"
   ]
  },
  {
   "cell_type": "code",
   "execution_count": 44,
   "metadata": {
    "scrolled": true
   },
   "outputs": [
    {
     "name": "stdout",
     "output_type": "stream",
     "text": [
      "Train on 8000 samples, validate on 2000 samples\n",
      "Epoch 1/10\n",
      "8000/8000 [==============================] - 1s 123us/step - loss: 1.0240 - acc: 0.6579 - val_loss: 0.6697 - val_acc: 0.7675\n",
      "Epoch 2/10\n",
      "8000/8000 [==============================] - 1s 63us/step - loss: 0.5835 - acc: 0.7991 - val_loss: 0.5752 - val_acc: 0.7955\n",
      "Epoch 3/10\n",
      "8000/8000 [==============================] - 0s 61us/step - loss: 0.4990 - acc: 0.8283 - val_loss: 0.4817 - val_acc: 0.8385\n",
      "Epoch 4/10\n",
      "8000/8000 [==============================] - 1s 72us/step - loss: 0.4544 - acc: 0.8394 - val_loss: 0.4351 - val_acc: 0.8505\n",
      "Epoch 5/10\n",
      "8000/8000 [==============================] - 1s 74us/step - loss: 0.4095 - acc: 0.8564 - val_loss: 0.4272 - val_acc: 0.8485\n",
      "Epoch 6/10\n",
      "8000/8000 [==============================] - 1s 71us/step - loss: 0.3932 - acc: 0.8634 - val_loss: 0.4179 - val_acc: 0.8570\n",
      "Epoch 7/10\n",
      "8000/8000 [==============================] - 1s 77us/step - loss: 0.3727 - acc: 0.8675 - val_loss: 0.4113 - val_acc: 0.8595\n",
      "Epoch 8/10\n",
      "8000/8000 [==============================] - 1s 64us/step - loss: 0.3484 - acc: 0.8808 - val_loss: 0.3976 - val_acc: 0.8655\n",
      "Epoch 9/10\n",
      "8000/8000 [==============================] - 1s 80us/step - loss: 0.3316 - acc: 0.8824 - val_loss: 0.4064 - val_acc: 0.8630\n",
      "Epoch 10/10\n",
      "8000/8000 [==============================] - 1s 66us/step - loss: 0.3204 - acc: 0.8859 - val_loss: 0.3739 - val_acc: 0.8750\n"
     ]
    }
   ],
   "source": [
    "history = model.fit(X, y, epochs=10, \n",
    "                    batch_size=200, shuffle=True, \n",
    "                    validation_split=0.20)"
   ]
  },
  {
   "cell_type": "code",
   "execution_count": 45,
   "metadata": {},
   "outputs": [
    {
     "data": {
      "image/png": "[encoded data removed]",
      "text/plain": [
       "<Figure size 432x288 with 1 Axes>"
      ]
     },
     "metadata": {
      "needs_background": "light"
     },
     "output_type": "display_data"
    }
   ],
   "source": [
    "# Adam with decay\n",
    "\n",
    "plt.plot(history.history['loss'], color='red')\n",
    "plt.plot(history.history['val_loss'], color='blue')\n",
    "plt.plot(history.history['acc'], color='black')\n",
    "plt.plot(history.history['val_acc'], color='pink')\n",
    "plt.show()"
   ]
  },
  {
   "cell_type": "code",
   "execution_count": null,
   "metadata": {},
   "outputs": [],
   "source": []
  }
 ],
 "metadata": {
  "kernelspec": {
   "display_name": "Python 3",
   "language": "python",
   "name": "python3"
  },
  "language_info": {
   "codemirror_mode": {
    "name": "ipython",
    "version": 2
   },
   "file_extension": ".py",
   "mimetype": "text/x-python",
   "name": "python",
   "nbconvert_exporter": "python",
   "pygments_lexer": "ipython2",
   "version": "2.7.15+"
  }
 },
 "nbformat": 4,
 "nbformat_minor": 2
}
