{
 "cells": [
  {
   "cell_type": "code",
   "execution_count": 3,
   "metadata": {},
   "outputs": [],
   "source": [
    "import numpy as np\n",
    "import pandas as pd\n",
    "\n",
    "from keras.models import Model\n",
    "from keras.layers import Conv2D, Input, Flatten, Dense, Reshape,UpSampling2D,ZeroPadding2D, MaxPooling2D"
   ]
  },
  {
   "cell_type": "code",
   "execution_count": 2,
   "metadata": {},
   "outputs": [
    {
     "name": "stdout",
     "output_type": "stream",
     "text": [
      "(60000, 28, 28, 1) (60000,)\n"
     ]
    }
   ],
   "source": [
    "X = pd.read_csv(\"/home/vasu/Downloads/fashion-mnist_train.csv\").values\n",
    "\n",
    "y = X[:,0]\n",
    "X = X[:,1:]\n",
    "X = X/255.0\n",
    "\n",
    "X = X.reshape((X.shape[0],28,28,1))\n",
    "\n",
    "print (X.shape, y.shape)"
   ]
  },
  {
   "cell_type": "code",
   "execution_count": 5,
   "metadata": {},
   "outputs": [],
   "source": [
    "## Encoder\n",
    "\n",
    "inp = Input(shape=(28,28,1))\n",
    "c1 = Conv2D(32, (3,3),activation='relu')(inp)\n",
    "m1 = MaxPooling2D((2,2))(c1)\n",
    "c2 = Conv2D(64, (3,3), activation='relu')(m1)\n",
    "m2 = MaxPooling2D((2,2))(c2)\n",
    "c3 = Conv2D(8, (3,3), activation='relu')(m2)\n",
    "f1 = Flatten()(c3)\n",
    "d1 = Dense(2, activation='relu')(f1)\n",
    "\n",
    "## Decoder\n",
    "\n",
    "d2 = Dense(72, activation='relu')(d1)\n",
    "r1 = Reshape((3,3,8))(d2)\n",
    "zp1 = ZeroPadding2D((1,1))(r1)\n",
    "c4 = Conv2D(64, (3,3), activation='relu', padding='same')(zp1)\n",
    "up1 = UpSampling2D((2,2))(c4)\n",
    "zp2 = ZeroPadding2D((2,2))(up1)\n",
    "c5 = Conv2D(32, (3,3), activation='relu', padding='same')(zp2)\n",
    "up2 = UpSampling2D((2,2))(c5)\n",
    "c6 = Conv2D(1, (3,3), activation='sigmoid', padding='same')(up2)\n",
    "\n",
    "model = Model(inputs=inp, outputs=c6)\n",
    "encoder = Model(inputs=inp, outputs=d1)"
   ]
  },
  {
   "cell_type": "code",
   "execution_count": 6,
   "metadata": {},
   "outputs": [
    {
     "name": "stdout",
     "output_type": "stream",
     "text": [
      "_________________________________________________________________\n",
      "Layer (type)                 Output Shape              Param #   \n",
      "=================================================================\n",
      "input_2 (InputLayer)         (None, 28, 28, 1)         0         \n",
      "_________________________________________________________________\n",
      "conv2d_6 (Conv2D)            (None, 26, 26, 32)        320       \n",
      "_________________________________________________________________\n",
      "max_pooling2d_3 (MaxPooling2 (None, 13, 13, 32)        0         \n",
      "_________________________________________________________________\n",
      "conv2d_7 (Conv2D)            (None, 11, 11, 64)        18496     \n",
      "_________________________________________________________________\n",
      "max_pooling2d_4 (MaxPooling2 (None, 5, 5, 64)          0         \n",
      "_________________________________________________________________\n",
      "conv2d_8 (Conv2D)            (None, 3, 3, 8)           4616      \n",
      "_________________________________________________________________\n",
      "flatten_2 (Flatten)          (None, 72)                0         \n",
      "_________________________________________________________________\n",
      "dense_3 (Dense)              (None, 2)                 146       \n",
      "_________________________________________________________________\n",
      "dense_4 (Dense)              (None, 72)                216       \n",
      "_________________________________________________________________\n",
      "reshape_2 (Reshape)          (None, 3, 3, 8)           0         \n",
      "_________________________________________________________________\n",
      "zero_padding2d_3 (ZeroPaddin (None, 5, 5, 8)           0         \n",
      "_________________________________________________________________\n",
      "conv2d_9 (Conv2D)            (None, 5, 5, 64)          4672      \n",
      "_________________________________________________________________\n",
      "up_sampling2d_3 (UpSampling2 (None, 10, 10, 64)        0         \n",
      "_________________________________________________________________\n",
      "zero_padding2d_4 (ZeroPaddin (None, 14, 14, 64)        0         \n",
      "_________________________________________________________________\n",
      "conv2d_10 (Conv2D)           (None, 14, 14, 32)        18464     \n",
      "_________________________________________________________________\n",
      "up_sampling2d_4 (UpSampling2 (None, 28, 28, 32)        0         \n",
      "_________________________________________________________________\n",
      "conv2d_11 (Conv2D)           (None, 28, 28, 1)         289       \n",
      "=================================================================\n",
      "Total params: 47,219\n",
      "Trainable params: 47,219\n",
      "Non-trainable params: 0\n",
      "_________________________________________________________________\n"
     ]
    }
   ],
   "source": [
    "model.summary()"
   ]
  },
  {
   "cell_type": "code",
   "execution_count": 7,
   "metadata": {},
   "outputs": [
    {
     "name": "stdout",
     "output_type": "stream",
     "text": [
      "_________________________________________________________________\n",
      "Layer (type)                 Output Shape              Param #   \n",
      "=================================================================\n",
      "input_2 (InputLayer)         (None, 28, 28, 1)         0         \n",
      "_________________________________________________________________\n",
      "conv2d_6 (Conv2D)            (None, 26, 26, 32)        320       \n",
      "_________________________________________________________________\n",
      "max_pooling2d_3 (MaxPooling2 (None, 13, 13, 32)        0         \n",
      "_________________________________________________________________\n",
      "conv2d_7 (Conv2D)            (None, 11, 11, 64)        18496     \n",
      "_________________________________________________________________\n",
      "max_pooling2d_4 (MaxPooling2 (None, 5, 5, 64)          0         \n",
      "_________________________________________________________________\n",
      "conv2d_8 (Conv2D)            (None, 3, 3, 8)           4616      \n",
      "_________________________________________________________________\n",
      "flatten_2 (Flatten)          (None, 72)                0         \n",
      "_________________________________________________________________\n",
      "dense_3 (Dense)              (None, 2)                 146       \n",
      "=================================================================\n",
      "Total params: 23,578\n",
      "Trainable params: 23,578\n",
      "Non-trainable params: 0\n",
      "_________________________________________________________________\n"
     ]
    }
   ],
   "source": [
    "encoder.summary()"
   ]
  },
  {
   "cell_type": "code",
   "execution_count": 8,
   "metadata": {},
   "outputs": [],
   "source": [
    "model.compile(loss='mse', optimizer='adam', metrics=['accuracy'])"
   ]
  },
  {
   "cell_type": "code",
   "execution_count": 9,
   "metadata": {},
   "outputs": [
    {
     "name": "stdout",
     "output_type": "stream",
     "text": [
      "WARNING:tensorflow:From /home/vasu/all_projects/calculai/RC/lib/python3.6/site-packages/tensorflow/python/ops/math_ops.py:3066: to_int32 (from tensorflow.python.ops.math_ops) is deprecated and will be removed in a future version.\n",
      "Instructions for updating:\n",
      "Use tf.cast instead.\n",
      "Train on 48000 samples, validate on 12000 samples\n",
      "Epoch 1/20\n",
      "48000/48000 [==============================] - 127s 3ms/step - loss: 0.0598 - acc: 0.4940 - val_loss: 0.0409 - val_acc: 0.4956\n",
      "Epoch 2/20\n",
      "48000/48000 [==============================] - 135s 3ms/step - loss: 0.0392 - acc: 0.4958 - val_loss: 0.0383 - val_acc: 0.4966\n",
      "Epoch 3/20\n",
      "48000/48000 [==============================] - 135s 3ms/step - loss: 0.0375 - acc: 0.4964 - val_loss: 0.0373 - val_acc: 0.4978\n",
      "Epoch 4/20\n",
      "48000/48000 [==============================] - 137s 3ms/step - loss: 0.0365 - acc: 0.4970 - val_loss: 0.0369 - val_acc: 0.4960\n",
      "Epoch 5/20\n",
      "48000/48000 [==============================] - 137s 3ms/step - loss: 0.0358 - acc: 0.4973 - val_loss: 0.0361 - val_acc: 0.4943\n",
      "Epoch 6/20\n",
      "48000/48000 [==============================] - 142s 3ms/step - loss: 0.0353 - acc: 0.4977 - val_loss: 0.0352 - val_acc: 0.4968\n",
      "Epoch 7/20\n",
      "48000/48000 [==============================] - 138s 3ms/step - loss: 0.0349 - acc: 0.4979 - val_loss: 0.0357 - val_acc: 0.4959\n",
      "Epoch 8/20\n",
      "48000/48000 [==============================] - 138s 3ms/step - loss: 0.0345 - acc: 0.4981 - val_loss: 0.0350 - val_acc: 0.4960\n",
      "Epoch 9/20\n",
      "48000/48000 [==============================] - 138s 3ms/step - loss: 0.0343 - acc: 0.4982 - val_loss: 0.0345 - val_acc: 0.4980\n",
      "Epoch 10/20\n",
      "48000/48000 [==============================] - 137s 3ms/step - loss: 0.0340 - acc: 0.4984 - val_loss: 0.0342 - val_acc: 0.4964\n",
      "Epoch 11/20\n",
      "48000/48000 [==============================] - 137s 3ms/step - loss: 0.0337 - acc: 0.4985 - val_loss: 0.0339 - val_acc: 0.4987\n",
      "Epoch 12/20\n",
      "48000/48000 [==============================] - 137s 3ms/step - loss: 0.0335 - acc: 0.4986 - val_loss: 0.0343 - val_acc: 0.4967\n",
      "Epoch 13/20\n",
      "48000/48000 [==============================] - 138s 3ms/step - loss: 0.0333 - acc: 0.4987 - val_loss: 0.0336 - val_acc: 0.4982\n",
      "Epoch 14/20\n",
      "48000/48000 [==============================] - 138s 3ms/step - loss: 0.0332 - acc: 0.4988 - val_loss: 0.0334 - val_acc: 0.4970\n",
      "Epoch 15/20\n",
      "48000/48000 [==============================] - 138s 3ms/step - loss: 0.0329 - acc: 0.4989 - val_loss: 0.0334 - val_acc: 0.4991\n",
      "Epoch 16/20\n",
      "48000/48000 [==============================] - 138s 3ms/step - loss: 0.0328 - acc: 0.4990 - val_loss: 0.0329 - val_acc: 0.4985\n",
      "Epoch 17/20\n",
      "48000/48000 [==============================] - 138s 3ms/step - loss: 0.0326 - acc: 0.4991 - val_loss: 0.0329 - val_acc: 0.4997\n",
      "Epoch 18/20\n",
      "48000/48000 [==============================] - 128s 3ms/step - loss: 0.0325 - acc: 0.4991 - val_loss: 0.0327 - val_acc: 0.4980\n",
      "Epoch 19/20\n",
      "48000/48000 [==============================] - 119s 2ms/step - loss: 0.0323 - acc: 0.4992 - val_loss: 0.0327 - val_acc: 0.4975\n",
      "Epoch 20/20\n",
      "48000/48000 [==============================] - 120s 2ms/step - loss: 0.0322 - acc: 0.4993 - val_loss: 0.0324 - val_acc: 0.4995\n"
     ]
    }
   ],
   "source": [
    "hist = model.fit(X,X, epochs=20, shuffle=True, batch_size=128, validation_split=0.20)"
   ]
  },
  {
   "cell_type": "code",
   "execution_count": 10,
   "metadata": {},
   "outputs": [],
   "source": [
    "encoder.save(\"encoder.h5\")"
   ]
  },
  {
   "cell_type": "code",
   "execution_count": 11,
   "metadata": {},
   "outputs": [],
   "source": [
    "model.save(\"autoencoder.h5\")"
   ]
  }
 ],
 "metadata": {
  "kernelspec": {
   "display_name": "Python 3",
   "language": "python",
   "name": "python3"
  },
  "language_info": {
   "codemirror_mode": {
    "name": "ipython",
    "version": 3
   },
   "file_extension": ".py",
   "mimetype": "text/x-python",
   "name": "python",
   "nbconvert_exporter": "python",
   "pygments_lexer": "ipython3",
   "version": "3.6.7"
  }
 },
 "nbformat": 4,
 "nbformat_minor": 2
}
